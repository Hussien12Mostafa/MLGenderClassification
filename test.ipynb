{
 "cells": [
  {
   "cell_type": "markdown",
   "metadata": {},
   "source": [
    "# Feature Extraction for Test data.\n",
    "### which are 10 images from female data and 10 from male data."
   ]
  },
  {
   "cell_type": "code",
   "execution_count": 1,
   "metadata": {},
   "outputs": [],
   "source": [
    "from hinge_feature_extraction import *\n",
    "from cold_feature_extraction import *\n",
    "import argparse\n",
    "import numpy as np\n",
    "import os\n",
    "from tqdm import tqdm"
   ]
  },
  {
   "cell_type": "code",
   "execution_count": 2,
   "metadata": {},
   "outputs": [
    {
     "name": "stdout",
     "output_type": "stream",
     "text": [
      "['Test']\n"
     ]
    }
   ],
   "source": [
    "class_dirs = os.listdir(\"testData\")\n",
    "class_dirs.sort()\n",
    "print(class_dirs)"
   ]
  },
  {
   "cell_type": "code",
   "execution_count": 3,
   "metadata": {},
   "outputs": [
    {
     "name": "stderr",
     "output_type": "stream",
     "text": [
      "  0%|          | 0/20 [00:00<?, ?it/s]f:\\Neural Networks\\Tuts\\MLGenderClassification\\cold_feature_extraction.py:79: RuntimeWarning: divide by zero encountered in log10\n",
      "  rhos_log_space = np.log10(rhos)\n",
      "100%|██████████| 20/20 [01:25<00:00,  4.27s/it]"
     ]
    },
    {
     "name": "stdout",
     "output_type": "stream",
     "text": [
      "[STATUS] processed folder: Test\n",
      "Saved all hinge and cold features\n"
     ]
    },
    {
     "name": "stderr",
     "output_type": "stream",
     "text": [
      "\n"
     ]
    }
   ],
   "source": [
    "# 1 Male\n",
    "hinge_feature_vectors = []\n",
    "cold_feature_vectors = []\n",
    "labels = [0,0,0,0,0,0,0,0,0,0,1,1,1,1,1,1,1,1,1,1]\n",
    "label_names = []\n",
    "ecount = 0\n",
    "input_folder=\"testData\"\n",
    "output_folder=\"featureTest\"\n",
    "# cold = Cold()\n",
    "# hinge = Hinge()\n",
    "for i, class_dir in enumerate(class_dirs):\n",
    "    img_filenames = os.listdir(os.path.join(input_folder, class_dir))\n",
    "    # print(class_dir)\n",
    "    for img_filename in tqdm(img_filenames):\n",
    "        try:\n",
    "            img_path = os.path.join(input_folder, class_dir, img_filename)\n",
    "            # print(img_path)\n",
    "\n",
    "            h_f = get_hinge_features(img_path)\n",
    "            c_f = get_cold_features(img_path)\n",
    "            \n",
    "            hinge_feature_vectors.append(h_f)\n",
    "            cold_feature_vectors.append(c_f)\n",
    "            label_names.append(class_dir)\n",
    "            #labels.append(i)\n",
    "        except Exception as inst:\n",
    "            ecount += 1\n",
    "            if ecount % 20 == 0:\n",
    "                print(inst, f'error count: {ecount}')\n",
    "            continue\n",
    "\n",
    "    print(f\"[STATUS] processed folder: {class_dir}\")\n",
    "np.save(os.path.join(output_folder, f\"hinge_features.npy\"), hinge_feature_vectors)\n",
    "np.save(os.path.join(output_folder, f\"cold_features.npy\"), cold_feature_vectors)\n",
    "np.savez(os.path.join(output_folder, f\"labels\"), label = labels, label_name = label_names)\n",
    "\n",
    "print(f\"Saved all hinge and cold features\")"
   ]
  }
 ],
 "metadata": {
  "interpreter": {
   "hash": "ad2bdc8ecc057115af97d19610ffacc2b4e99fae6737bb82f5d7fb13d2f2c186"
  },
  "kernelspec": {
   "display_name": "Python 3.8.8 ('base')",
   "language": "python",
   "name": "python3"
  },
  "language_info": {
   "codemirror_mode": {
    "name": "ipython",
    "version": 3
   },
   "file_extension": ".py",
   "mimetype": "text/x-python",
   "name": "python",
   "nbconvert_exporter": "python",
   "pygments_lexer": "ipython3",
   "version": "3.8.8"
  },
  "orig_nbformat": 4
 },
 "nbformat": 4,
 "nbformat_minor": 2
}
