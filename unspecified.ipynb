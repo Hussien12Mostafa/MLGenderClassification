{
 "cells": [
  {
   "cell_type": "code",
   "execution_count": 1,
   "metadata": {},
   "outputs": [],
   "source": [
    "from hinge_feature_extraction import *\n",
    "from cold_feature_extraction import *\n",
    "import argparse\n",
    "import numpy as np\n",
    "import os\n",
    "from tqdm import tqdm"
   ]
  },
  {
   "cell_type": "code",
   "execution_count": 2,
   "metadata": {},
   "outputs": [
    {
     "name": "stdout",
     "output_type": "stream",
     "text": [
      "['Unspecified']\n"
     ]
    }
   ],
   "source": [
    "class_dirs = os.listdir(\"UnspecifiedData\")\n",
    "class_dirs.sort()\n",
    "print(class_dirs)"
   ]
  },
  {
   "cell_type": "code",
   "execution_count": 10,
   "metadata": {},
   "outputs": [
    {
     "name": "stderr",
     "output_type": "stream",
     "text": [
      "  0%|          | 0/50 [00:00<?, ?it/s]"
     ]
    },
    {
     "name": "stdout",
     "output_type": "stream",
     "text": [
      "['U10F.jpg', 'U11F.jpg', 'U12F.jpg', 'U13.jpg', 'U14F.jpg', 'U15F.jpg', 'U16F.jpg', 'U17.jpg', 'U18.jpg', 'U19.jpg', 'U1F.jpg', 'U2.jpg', 'U20.jpg', 'U21F.jpg', 'U22F.jpg', 'U23F.jpg', 'U24.jpg', 'U25F.jpg', 'U26F.jpg', 'U27F.jpg', 'U28.jpg', 'U29.jpg', 'U3.jpg', 'U30.jpg', 'U31F.jpg', 'U32.jpg', 'U33.jpg', 'U34.jpg', 'U35F.jpg', 'U36.jpg', 'U37.jpg', 'U38.jpg', 'U39.jpg', 'U4.jpg', 'U40F.jpg', 'U41F.jpg', 'U42.jpg', 'U43.jpg', 'U44F.jpg', 'U45.jpg', 'U46F.jpg', 'U47F.jpg', 'U48.jpg', 'U49F.jpg', 'U5.jpg', 'U50.jpg', 'U6.jpg', 'U7F.jpg', 'U8F.jpg', 'U9.jpg']\n"
     ]
    },
    {
     "name": "stderr",
     "output_type": "stream",
     "text": [
      "f:\\Neural Networks\\Project\\MLGenderClassification\\cold_feature_extraction.py:115: RuntimeWarning: divide by zero encountered in log10\n",
      "  rhos_log_space = np.log10(rhos)\n",
      "100%|██████████| 50/50 [03:24<00:00,  4.09s/it]"
     ]
    },
    {
     "name": "stdout",
     "output_type": "stream",
     "text": [
      "[STATUS] processed folder: Unspecified\n",
      "Saved all hinge and cold features\n"
     ]
    },
    {
     "name": "stderr",
     "output_type": "stream",
     "text": [
      "\n"
     ]
    }
   ],
   "source": [
    "\n",
    "hinge_feature_vectors = []\n",
    "cold_feature_vectors = []\n",
    "labels = [0, 0, 0, 1, 0, 0, 0, 1, 1, 1, 0, 1, 1, 0, 0, 0, 1, 0, 0, 0, 1, 1, 1, 1, 0, 1, 1, 1, 0, 1, 1, 1, 1, 1, 0, 0, 1, 1, 0, 1, 0, 0, 1, 0, 1, 1, 1, 0, 0, 1]\n",
    "label_names = []\n",
    "ecount = 0\n",
    "input_folder=\"UnspecifiedData\"\n",
    "output_folder=\"UnspecifiedTest\"\n",
    "\n",
    "for i, class_dir in enumerate(class_dirs):\n",
    "    img_filenames = os.listdir(os.path.join(input_folder, class_dir))\n",
    "    print(os.listdir(os.path.join(input_folder, class_dir)))\n",
    "    for img_filename in tqdm(img_filenames):\n",
    "        try:\n",
    "            img_path = os.path.join(input_folder, class_dir, img_filename)\n",
    "            \n",
    "            h_f = get_hinge_features(img_path)\n",
    "            c_f = get_cold_features(img_path)\n",
    "            \n",
    "            hinge_feature_vectors.append(h_f)\n",
    "            cold_feature_vectors.append(c_f)\n",
    "            label_names.append(class_dir)\n",
    "            #labels.append(i)\n",
    "        except Exception as inst:\n",
    "            ecount += 1\n",
    "            if ecount % 20 == 0:\n",
    "                print(inst, f'error count: {ecount}')\n",
    "            continue\n",
    "\n",
    "    print(f\"[STATUS] processed folder: {class_dir}\")\n",
    "np.save(os.path.join(output_folder, f\"hinge_features.npy\"), hinge_feature_vectors)\n",
    "np.save(os.path.join(output_folder, f\"cold_features.npy\"), cold_feature_vectors)\n",
    "np.savez(os.path.join(output_folder, f\"labels\"), label = labels, label_name = label_names)\n",
    "\n",
    "print(f\"Saved all hinge and cold features\")"
   ]
  }
 ],
 "metadata": {
  "interpreter": {
   "hash": "ad2bdc8ecc057115af97d19610ffacc2b4e99fae6737bb82f5d7fb13d2f2c186"
  },
  "kernelspec": {
   "display_name": "Python 3.8.8 ('base')",
   "language": "python",
   "name": "python3"
  },
  "language_info": {
   "codemirror_mode": {
    "name": "ipython",
    "version": 3
   },
   "file_extension": ".py",
   "mimetype": "text/x-python",
   "name": "python",
   "nbconvert_exporter": "python",
   "pygments_lexer": "ipython3",
   "version": "3.8.8"
  },
  "orig_nbformat": 4
 },
 "nbformat": 4,
 "nbformat_minor": 2
}
