{
 "cells": [
  {
   "attachments": {},
   "cell_type": "markdown",
   "metadata": {},
   "source": [
    "# SVM model \n",
    "\n",
    "### step 4 and 5 in readme"
   ]
  },
  {
   "cell_type": "code",
   "execution_count": 43,
   "metadata": {},
   "outputs": [],
   "source": [
    "from sklearn.metrics import classification_report, confusion_matrix\n",
    "from sklearn.svm import SVC\n",
    "from sklearn.model_selection import cross_val_score, cross_val_predict, RandomizedSearchCV\n",
    "from sklearn.metrics import *\n",
    "import numpy as np"
   ]
  },
  {
   "cell_type": "code",
   "execution_count": 44,
   "metadata": {},
   "outputs": [],
   "source": [
    "# read hinge features for train data\n",
    "x_hinge = np.load(\"featuresTrainDataSet/hinge_features.npy\")\n",
    "# read cold for train data\n",
    "x_cold = np.load(\"featuresTrainDataSet/cold_features.npy\")\n",
    "# read hinge features for test data\n",
    "x_hingeT = np.load(\"featuresTestData/hinge_features.npy\")\n",
    "# read cold features for test data\n",
    "x_coldT = np.load(\"featuresTestData/cold_features.npy\")\n",
    "# read label for train data\n",
    "y = np.load(\"featuresTrainDataSet/labels.npz\")['label']\n",
    "# label for test data\n",
    "y_test = [0,0,0,0,0,0,0,0,0,0,1,1,1,1,1,1,1,1,1,1]\n",
    "\n"
   ]
  },
  {
   "cell_type": "code",
   "execution_count": 45,
   "metadata": {},
   "outputs": [
    {
     "name": "stdout",
     "output_type": "stream",
     "text": [
      "[LibSVM]Accuracy: 0.9475218658892128\n",
      "[[108  13]\n",
      " [  5 217]]\n"
     ]
    },
    {
     "data": {
      "text/plain": [
       "0.9601769911504424"
      ]
     },
     "execution_count": 45,
     "metadata": {},
     "output_type": "execute_result"
    }
   ],
   "source": [
    "# Linear Kernel\n",
    "clf = SVC(kernel='rbf', verbose=True, C=10) \n",
    "\n",
    "# Train the model using the train data set(hinge features)\n",
    "clf.fit(x_hinge, y)\n",
    "\n",
    "# Predict the response for train dataset\n",
    "y_pred_hinge_train = clf.predict(x_hinge)\n",
    "\n",
    "\n",
    "\n",
    "# Model Accuracy for train data set \n",
    "print(\"Accuracy:\",accuracy_score(y, y_pred_hinge_train))\n",
    "# print confusion_matrix\n",
    "print(confusion_matrix(y,y_pred_hinge_train))\n",
    "# print f1_score\n",
    "f1_score(y,y_pred_hinge_train)\n"
   ]
  },
  {
   "cell_type": "code",
   "execution_count": 46,
   "metadata": {},
   "outputs": [
    {
     "name": "stdout",
     "output_type": "stream",
     "text": [
      "Accuracy: 0.9\n",
      "[[ 8  2]\n",
      " [ 0 10]]\n"
     ]
    },
    {
     "data": {
      "text/plain": [
       "0.9090909090909091"
      ]
     },
     "execution_count": 46,
     "metadata": {},
     "output_type": "execute_result"
    }
   ],
   "source": [
    "#Predict the response for test dataset\n",
    "y_pred_hinge_test = clf.predict(x_hingeT)\n",
    "\n",
    "\n",
    "\n",
    "# Model Accuracy for test data set \n",
    "print(\"Accuracy:\",accuracy_score(y_test, y_pred_hinge_test))\n",
    "# print confusion_matrix\n",
    "print(confusion_matrix(y_test,y_pred_hinge_test))\n",
    "# print f1_score\n",
    "f1_score(y_test,y_pred_hinge_test)"
   ]
  },
  {
   "cell_type": "code",
   "execution_count": 47,
   "metadata": {},
   "outputs": [
    {
     "name": "stdout",
     "output_type": "stream",
     "text": [
      "[LibSVM]Accuracy: 0.7259475218658892\n",
      "[[ 33  88]\n",
      " [  6 216]]\n"
     ]
    },
    {
     "data": {
      "text/plain": [
       "0.8212927756653992"
      ]
     },
     "execution_count": 47,
     "metadata": {},
     "output_type": "execute_result"
    }
   ],
   "source": [
    "# Linear Kernel\n",
    "clf = SVC(kernel='rbf', verbose=True, C=10) \n",
    "\n",
    "# Train the model using the train data set(cold features)\n",
    "clf.fit(x_cold, y)\n",
    "\n",
    "# Predict the response for train dataset\n",
    "y_pred_cold_train = clf.predict(x_cold)\n",
    "\n",
    "\n",
    "\n",
    "# Model Accuracy for train data set \n",
    "print(\"Accuracy:\",accuracy_score(y, y_pred_cold_train))\n",
    "# print confusion_matrix\n",
    "print(confusion_matrix(y,y_pred_cold_train))\n",
    "# print f1_score\n",
    "f1_score(y,y_pred_cold_train)\n"
   ]
  },
  {
   "cell_type": "code",
   "execution_count": 48,
   "metadata": {},
   "outputs": [
    {
     "name": "stdout",
     "output_type": "stream",
     "text": [
      "Accuracy: 0.5\n",
      "[[ 0 10]\n",
      " [ 0 10]]\n"
     ]
    },
    {
     "data": {
      "text/plain": [
       "0.6666666666666666"
      ]
     },
     "execution_count": 48,
     "metadata": {},
     "output_type": "execute_result"
    }
   ],
   "source": [
    "#Predict the response for test dataset\n",
    "y_pred_cold_test = clf.predict(x_coldT)\n",
    "\n",
    "# Model Accuracy for test data set \n",
    "print(\"Accuracy:\",accuracy_score(y_test, y_pred_cold_test))\n",
    "# print confusion_matrix\n",
    "print(confusion_matrix(y_test,y_pred_cold_test))\n",
    "# print f1_score\n",
    "f1_score(y_test,y_pred_cold_test)"
   ]
  },
  {
   "cell_type": "code",
   "execution_count": 49,
   "metadata": {},
   "outputs": [],
   "source": [
    "# concatenate to features for train data\n",
    "x_hinge_cold=np.append(x_hinge,x_cold,axis=1)\n",
    "# concatenate to features for test data\n",
    "x_hinge_coldT=np.append(x_hingeT,x_coldT,axis=1)\n"
   ]
  },
  {
   "cell_type": "code",
   "execution_count": 50,
   "metadata": {},
   "outputs": [
    {
     "name": "stdout",
     "output_type": "stream",
     "text": [
      "[LibSVM]Accuracy: 0.7317784256559767\n",
      "[[ 39  82]\n",
      " [ 10 212]]\n"
     ]
    },
    {
     "data": {
      "text/plain": [
       "0.8217054263565892"
      ]
     },
     "execution_count": 50,
     "metadata": {},
     "output_type": "execute_result"
    }
   ],
   "source": [
    "clf = SVC(kernel='rbf', verbose=True, C=10) # Linear Kernel\n",
    "\n",
    "# Train the model using the train data set(cold and hinge features)\n",
    "clf.fit(x_hinge_cold, y)\n",
    "\n",
    "# Predict the response for train dataset\n",
    "y_pred_hinge_cold_train = clf.predict(x_hinge_cold)\n",
    "\n",
    "\n",
    "\n",
    "# Model Accuracy for train data set \n",
    "print(\"Accuracy:\",accuracy_score(y, y_pred_hinge_cold_train))\n",
    "# print confusion_matrix\n",
    "print(confusion_matrix(y,y_pred_hinge_cold_train))\n",
    "# print f1_score\n",
    "f1_score(y,y_pred_hinge_cold_train)\n"
   ]
  },
  {
   "cell_type": "code",
   "execution_count": 51,
   "metadata": {},
   "outputs": [
    {
     "name": "stdout",
     "output_type": "stream",
     "text": [
      "Accuracy: 0.5\n",
      "[[ 0 10]\n",
      " [ 0 10]]\n"
     ]
    },
    {
     "data": {
      "text/plain": [
       "0.6666666666666666"
      ]
     },
     "execution_count": 51,
     "metadata": {},
     "output_type": "execute_result"
    }
   ],
   "source": [
    "#Predict the response for test dataset\n",
    "y_pred_hinge_cold_test = clf.predict(x_hinge_coldT)\n",
    "\n",
    "\n",
    "\n",
    "# Model Accuracy for test data set \n",
    "print(\"Accuracy:\",accuracy_score(y_test, y_pred_hinge_cold_test))\n",
    "# print confusion_matrix\n",
    "print(confusion_matrix(y_test,y_pred_cold_test))\n",
    "# print f1_score\n",
    "f1_score(y_test,y_pred_cold_test)"
   ]
  }
 ],
 "metadata": {
  "interpreter": {
   "hash": "ad2bdc8ecc057115af97d19610ffacc2b4e99fae6737bb82f5d7fb13d2f2c186"
  },
  "kernelspec": {
   "display_name": "Python 3.8.8 ('base')",
   "language": "python",
   "name": "python3"
  },
  "language_info": {
   "codemirror_mode": {
    "name": "ipython",
    "version": 3
   },
   "file_extension": ".py",
   "mimetype": "text/x-python",
   "name": "python",
   "nbconvert_exporter": "python",
   "pygments_lexer": "ipython3",
   "version": "3.9.12"
  },
  "orig_nbformat": 4
 },
 "nbformat": 4,
 "nbformat_minor": 2
}
