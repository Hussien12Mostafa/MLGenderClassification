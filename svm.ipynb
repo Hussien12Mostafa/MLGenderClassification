{
 "cells": [
  {
   "cell_type": "code",
   "execution_count": 71,
   "metadata": {},
   "outputs": [],
   "source": [
    "import time\n",
    "import os\n",
    "from datetime import datetime\n",
    "from sklearn.preprocessing import MinMaxScaler\n",
    "import sklearn.metrics\n",
    "from sklearn.metrics import classification_report, confusion_matrix\n",
    "from sklearn.svm import SVC\n",
    "from sklearn.model_selection import cross_val_score, cross_val_predict, RandomizedSearchCV\n",
    "from sklearn.metrics import *\n",
    "import numpy as np"
   ]
  },
  {
   "cell_type": "code",
   "execution_count": 72,
   "metadata": {},
   "outputs": [
    {
     "name": "stdout",
     "output_type": "stream",
     "text": [
      "50\n"
     ]
    }
   ],
   "source": [
    "x_hinge = np.load(\"features/hinge_features.npy\")\n",
    "x_cold = np.load(\"features/cold_features.npy\")\n",
    "y = np.load(\"features/labels.npz\")['label']\n",
    "y_test = [0,0,0,0,0,0,0,0,0,0,1,1,1,1,1,1,1,1,1,1]\n",
    "y_unspecified_test = [0, 0, 0, 1, 0, 0, 0, 1, 1, 1, 0, 1, 1, 0, 0, 0, 1, 0, 0, 0, 1, 1, 1, 1, 0, 1, 1, 1, 0, 1, 1, 1, 1, 1, 0, 0, 1, 1, 0, 1, 0, 0, 1, 0, 1, 1, 1, 0, 0, 1]\n",
    "print(len(y_unspecified_test))\n",
    "# label_names = np.load(opt.gt_label)['label_name']"
   ]
  },
  {
   "cell_type": "code",
   "execution_count": 74,
   "metadata": {},
   "outputs": [
    {
     "name": "stdout",
     "output_type": "stream",
     "text": [
      "[LibSVM]Accuracy: 0.9446064139941691\n"
     ]
    }
   ],
   "source": [
    "x_hingeT = np.load(\"featureTest/hinge_features.npy\")\n",
    "x_coldT = np.load(\"featureTest/cold_features.npy\")\n",
    "x_hingeUT = np.load(\"UnspecifiedTest/hinge_features.npy\")\n",
    "x_coldUT = np.load(\"UnspecifiedTest/cold_features.npy\")\n",
    "y_pred_hinge = []\n",
    "y_pred_cold = []\n",
    "timesH = []\n",
    "timesC = []\n"
   ]
  },
  {
   "cell_type": "code",
   "execution_count": null,
   "metadata": {},
   "outputs": [],
   "source": [
    "clf = SVC(kernel='rbf', verbose=True, C=10) # Linear Kernel\n",
    "\n",
    "#Train the model using the training sets\n",
    "clf.fit(x_hinge, y)\n",
    "\n",
    "#Predict the response for test dataset\n",
    "y_pred_hinge_validate = clf.predict(x_hinge)\n",
    "\n",
    "\n",
    "\n",
    "# Model Accuracy: how often is the classifier correct?\n",
    "print(\"Accuracy:\",accuracy_score(y, y_pred_hinge_validate))\n"
   ]
  },
  {
   "cell_type": "code",
   "execution_count": 65,
   "metadata": {},
   "outputs": [
    {
     "name": "stdout",
     "output_type": "stream",
     "text": [
      "[LibSVM]Accuracy: 0.85\n"
     ]
    }
   ],
   "source": [
    "\n",
    "clf = SVC(kernel='rbf', verbose=True, C=10) # Linear Kernel\n",
    "\n",
    "#Train the model using the training sets\n",
    "clf.fit(x_hinge, y)\n",
    "\n",
    "#Predict the response for test dataset\n",
    "start_time = time.time()\n",
    "y_pred_hinge = clf.predict(x_hingeT)\n",
    "diff_time=(time.time() - start_time)\n",
    "timesH.append(diff_time)\n",
    "\n",
    "if os.path.exists(\"hingeResult.txt\"):\n",
    "  os.remove(\"hingeResult.txt\")\n",
    "text_file = open(\"hingeResult.txt\", \"w\")\n",
    "for i in y_pred_hinge:\n",
    "    n = text_file.write(str(f'{i}\\n'))\n",
    "text_file.close()\n",
    "\n",
    "if os.path.exists(\"hingeTime.txt\"):\n",
    "  os.remove(\"hingeTime.txt\")\n",
    "text_file = open(\"hingeTime.txt\", \"w\")\n",
    "for i in range(1,x_hingeT.shape[0]+1):\n",
    "    n = text_file.write(str(f'{timesH[0]/i}\\n'))\n",
    "text_file.close()\n",
    "\n",
    "# Model Accuracy: how often is the classifier correct?\n",
    "print(\"Accuracy:\",accuracy_score(y_test, y_pred_hinge))\n",
    "\n"
   ]
  },
  {
   "cell_type": "code",
   "execution_count": 66,
   "metadata": {},
   "outputs": [
    {
     "name": "stdout",
     "output_type": "stream",
     "text": [
      "[LibSVM]Accuracy: 0.5\n"
     ]
    }
   ],
   "source": [
    "\n",
    "clf = SVC(kernel='rbf', verbose=True, C=10) # Linear Kernel\n",
    "\n",
    "#Train the model using the training sets\n",
    "clf.fit(x_cold, y)\n",
    "\n",
    "#Predict the response for test dataset\n",
    "start_time = time.time()\n",
    "y_pred_cold = clf.predict(x_coldT)\n",
    "diff_time=(time.time() - start_time)\n",
    "timesC.append(diff_time)\n",
    "if os.path.exists(\"coldResult.txt\"):\n",
    "  os.remove(\"coldResult.txt\")\n",
    "text_file = open(\"coldResult.txt\", \"w\")\n",
    "for i in y_pred_cold:\n",
    "    n = text_file.write(str(f'{i}\\n'))\n",
    "text_file.close()\n",
    "\n",
    "if os.path.exists(\"coldTime.txt\"):\n",
    "  os.remove(\"coldTime.txt\")\n",
    "text_file = open(\"coldTime.txt\", \"w\")\n",
    "for i in range(1,x_hingeT.shape[0]+1):\n",
    "    n = text_file.write(str(f'{timesC[0]/i}\\n'))\n",
    "text_file.close()\n",
    "\n",
    "# Model Accuracy: how often is the classifier correct?\n",
    "print(\"Accuracy:\",accuracy_score(y_test, y_pred_cold))"
   ]
  },
  {
   "cell_type": "code",
   "execution_count": 67,
   "metadata": {},
   "outputs": [
    {
     "name": "stdout",
     "output_type": "stream",
     "text": [
      "[LibSVM]Accuracy: 0.48\n"
     ]
    }
   ],
   "source": [
    "\n",
    "clf = SVC(kernel='rbf', verbose=True, C=10) # Linear Kernel\n",
    "\n",
    "#Train the model using the training sets\n",
    "clf.fit(x_hinge, y)\n",
    "\n",
    "#Predict the response for test dataset\n",
    "y_pred_hingeU = clf.predict(x_hingeUT)\n",
    "\n",
    "# Model Accuracy: how often is the classifier correct?\n",
    "print(\"Accuracy:\",accuracy_score(y_unspecified_test, y_pred_hingeU))"
   ]
  },
  {
   "cell_type": "code",
   "execution_count": 68,
   "metadata": {},
   "outputs": [
    {
     "name": "stdout",
     "output_type": "stream",
     "text": [
      "[LibSVM]Accuracy: 0.6\n"
     ]
    }
   ],
   "source": [
    "\n",
    "clf = SVC(kernel='rbf', verbose=True, C=10) # Linear Kernel\n",
    "\n",
    "#Train the model using the training sets\n",
    "clf.fit(x_cold, y)\n",
    "\n",
    "#Predict the response for test dataset\n",
    "y_pred_coldU = clf.predict(x_coldUT)\n",
    "\n",
    "# Model Accuracy: how often is the classifier correct?\n",
    "print(\"Accuracy:\",accuracy_score(y_unspecified_test, y_pred_coldU))"
   ]
  }
 ],
 "metadata": {
  "interpreter": {
   "hash": "ad2bdc8ecc057115af97d19610ffacc2b4e99fae6737bb82f5d7fb13d2f2c186"
  },
  "kernelspec": {
   "display_name": "Python 3.8.8 ('base')",
   "language": "python",
   "name": "python3"
  },
  "language_info": {
   "codemirror_mode": {
    "name": "ipython",
    "version": 3
   },
   "file_extension": ".py",
   "mimetype": "text/x-python",
   "name": "python",
   "nbconvert_exporter": "python",
   "pygments_lexer": "ipython3",
   "version": "3.8.8"
  },
  "orig_nbformat": 4
 },
 "nbformat": 4,
 "nbformat_minor": 2
}
