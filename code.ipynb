{
 "cells": [
  {
   "cell_type": "markdown",
   "metadata": {},
   "source": [
    "# Feature Extraction for data.\n"
   ]
  },
  {
   "cell_type": "code",
   "execution_count": 1,
   "metadata": {},
   "outputs": [],
   "source": [
    "from hinge_feature_extraction import *\n",
    "from cold_feature_extraction import *\n",
    "import argparse\n",
    "import numpy as np\n",
    "import os\n",
    "from tqdm import tqdm"
   ]
  },
  {
   "cell_type": "code",
   "execution_count": 2,
   "metadata": {},
   "outputs": [
    {
     "name": "stdout",
     "output_type": "stream",
     "text": [
      "['Female', 'Male']\n"
     ]
    }
   ],
   "source": [
    "class_dirs = os.listdir(\"D:/third year/2st term/NN/projectFromInternetSameMyProject/coldAndJypter/dataSet\")\n",
    "class_dirs.sort()\n",
    "print(class_dirs)\n"
   ]
  },
  {
   "cell_type": "code",
   "execution_count": 4,
   "metadata": {},
   "outputs": [
    {
     "name": "stderr",
     "output_type": "stream",
     "text": [
      "100%|██████████| 121/121 [19:16<00:00,  9.56s/it]\n"
     ]
    },
    {
     "name": "stdout",
     "output_type": "stream",
     "text": [
      "[STATUS] processed folder: Female\n"
     ]
    },
    {
     "name": "stderr",
     "output_type": "stream",
     "text": [
      "100%|██████████| 222/222 [38:23<00:00, 10.38s/it] "
     ]
    },
    {
     "name": "stdout",
     "output_type": "stream",
     "text": [
      "[STATUS] processed folder: Male\n",
      "Saved all hinge and cold features\n"
     ]
    },
    {
     "name": "stderr",
     "output_type": "stream",
     "text": [
      "\n"
     ]
    }
   ],
   "source": [
    "hinge_feature_vectors = []\n",
    "cold_feature_vectors = []\n",
    "labels = []\n",
    "label_names = []\n",
    "ecount = 0\n",
    "input_folder=\"D:/third year/2st term/NN/projectFromInternetSameMyProject/coldAndJypter/dataSet\"\n",
    "output_folder=\"D:/third year/2st term/NN/projectFromInternetSameMyProject/coldAndJypter/features\"\n",
    "cold = Cold()\n",
    "hinge = Hinge()\n",
    "input_folder=\"D:/third year/2st term/NN/projectFromInternetSameMyProject/coldAndJypter/dataSet\"\n",
    "for i, class_dir in enumerate(class_dirs):\n",
    "    img_filenames = os.listdir(os.path.join(input_folder, class_dir))\n",
    "    \n",
    "    for img_filename in tqdm(img_filenames):\n",
    "        try:\n",
    "            img_path = os.path.join(input_folder, class_dir, img_filename)\n",
    "            \n",
    "            h_f = hinge.get_hinge_features(img_path)\n",
    "            c_f = cold.get_cold_features(img_path)\n",
    "            \n",
    "            hinge_feature_vectors.append(h_f)\n",
    "            cold_feature_vectors.append(c_f)\n",
    "            label_names.append(class_dir)\n",
    "            labels.append(i)\n",
    "        except Exception as inst:\n",
    "            ecount += 1\n",
    "            if ecount % 20 == 0:\n",
    "                print(inst, f'error count: {ecount}')\n",
    "            continue\n",
    "\n",
    "    print(f\"[STATUS] processed folder: {class_dir}\")\n",
    "np.save(os.path.join(output_folder, f\"hinge_features.npy\"), hinge_feature_vectors)\n",
    "np.save(os.path.join(output_folder, f\"cold_features.npy\"), cold_feature_vectors)\n",
    "np.savez(os.path.join(output_folder, f\"labels\"), label = labels, label_name = label_names)\n",
    "\n",
    "print(f\"Saved all hinge and cold features\")"
   ]
  }
 ],
 "metadata": {
  "interpreter": {
   "hash": "11938c6bc6919ae2720b4d5011047913343b08a43b18698fd82dedb0d4417594"
  },
  "kernelspec": {
   "display_name": "Python 3.9.13 64-bit",
   "language": "python",
   "name": "python3"
  },
  "language_info": {
   "codemirror_mode": {
    "name": "ipython",
    "version": 3
   },
   "file_extension": ".py",
   "mimetype": "text/x-python",
   "name": "python",
   "nbconvert_exporter": "python",
   "pygments_lexer": "ipython3",
   "version": "3.9.13"
  },
  "orig_nbformat": 4
 },
 "nbformat": 4,
 "nbformat_minor": 2
}
