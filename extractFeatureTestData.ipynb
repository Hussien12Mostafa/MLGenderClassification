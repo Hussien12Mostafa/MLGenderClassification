{
 "cells": [
  {
   "attachments": {},
   "cell_type": "markdown",
   "metadata": {},
   "source": [
    "# Feature Extraction for test data.\n",
    "### which are 10 images from female data and 10 from male data.\n",
    "in this file i extract features from train data(first 2 step in readme)"
   ]
  },
  {
   "cell_type": "code",
   "execution_count": 1,
   "metadata": {},
   "outputs": [],
   "source": [
    "# to read data set\n",
    "import os\n",
    "# used it in loop\n",
    "from tqdm import tqdm\n",
    "# hinge feature extraction file\n",
    "from hinge_feature_extraction import *\n",
    "# cold feature extraction file\n",
    "from cold_feature_extraction import *"
   ]
  },
  {
   "cell_type": "code",
   "execution_count": 2,
   "metadata": {},
   "outputs": [
    {
     "name": "stdout",
     "output_type": "stream",
     "text": [
      "['Females', 'Males']\n"
     ]
    }
   ],
   "source": [
    "# save diractoiry or train data set\n",
    "class_dirs = os.listdir(\"testData\")\n",
    "# sort them alphabet\n",
    "class_dirs.sort()\n",
    "# to check sort\n",
    "print(class_dirs)\n"
   ]
  },
  {
   "cell_type": "code",
   "execution_count": 3,
   "metadata": {},
   "outputs": [
    {
     "name": "stderr",
     "output_type": "stream",
     "text": [
      "  0%|          | 0/10 [00:00<?, ?it/s]e:\\study\\MLGender\\MLGenderClassification\\cold_feature_extraction.py:77: RuntimeWarning: divide by zero encountered in log10\n",
      "  rhos_log_space = np.log10(rhos)\n",
      "100%|██████████| 10/10 [00:14<00:00,  1.43s/it]\n"
     ]
    },
    {
     "name": "stdout",
     "output_type": "stream",
     "text": [
      "[STATUS] processed folder: Females\n"
     ]
    },
    {
     "name": "stderr",
     "output_type": "stream",
     "text": [
      "100%|██████████| 10/10 [00:21<00:00,  2.14s/it]"
     ]
    },
    {
     "name": "stdout",
     "output_type": "stream",
     "text": [
      "[STATUS] processed folder: Males\n",
      "Saved all hinge and cold features\n"
     ]
    },
    {
     "name": "stderr",
     "output_type": "stream",
     "text": [
      "\n"
     ]
    }
   ],
   "source": [
    "# array to save hinge feature\n",
    "hinge_feature_vectors = []\n",
    "# array to save cold feature\n",
    "cold_feature_vectors = []\n",
    "# array to save label(0 or 1)\n",
    "labels = [0,0,0,0,0,0,0,0,0,0,1,1,1,1,1,1,1,1,1,1]\n",
    "# array to save label name (male or female)\n",
    "label_names = []\n",
    "# data set file \n",
    "input_folder=\"testData\"\n",
    "# output to save features\n",
    "output_folder=\"featuresTestData\"\n",
    "# loop in 2 classes(male and female)\n",
    "for i, class_dir in enumerate(class_dirs):\n",
    "    # read all images in one class\n",
    "    img_filenames = os.listdir(os.path.join(input_folder, class_dir))\n",
    "    # loop in all images in this class\n",
    "    for img_filename in tqdm(img_filenames):\n",
    "        # try catch made that because if there error in cold_feature_extraction.py or hinge_feature_extraction.py \n",
    "        try:\n",
    "            # read image\n",
    "            img_path = os.path.join(input_folder, class_dir, img_filename)\n",
    "            # extract hinge features for image \n",
    "            h_f = get_hinge_features(img_path)\n",
    "            # extract cold features for image \n",
    "            c_f = get_cold_features(img_path)\n",
    "            # add hinge features for image in list to save it \n",
    "            hinge_feature_vectors.append(h_f)\n",
    "            # add cold features for image in list to save it \n",
    "            cold_feature_vectors.append(c_f)\n",
    "            # add label name for image in list to save it \n",
    "            label_names.append(class_dir)\n",
    "        except Exception as inst:\n",
    "            # print which image has error \n",
    "            print(inst, f'error count: {i} + {class_dir}')\n",
    "            continue\n",
    "\n",
    "    print(f\"[STATUS] processed folder: {class_dir}\")\n",
    "# save hinge_features in featuresTrainDataSet\n",
    "np.save(os.path.join(output_folder, f\"hinge_features.npy\"), hinge_feature_vectors)\n",
    "# save cold_features in featuresTrainDataSet\n",
    "np.save(os.path.join(output_folder, f\"cold_features.npy\"), cold_feature_vectors)\n",
    "# save label name and num in featuresTrainDataSet\n",
    "np.savez(os.path.join(output_folder, f\"labels\"), label = labels, label_name = label_names)\n",
    "\n",
    "print(f\"Saved all hinge and cold features\")"
   ]
  }
 ],
 "metadata": {
  "kernelspec": {
   "display_name": "Python 3",
   "language": "python",
   "name": "python3"
  },
  "language_info": {
   "codemirror_mode": {
    "name": "ipython",
    "version": 3
   },
   "file_extension": ".py",
   "mimetype": "text/x-python",
   "name": "python",
   "nbconvert_exporter": "python",
   "pygments_lexer": "ipython3",
   "version": "3.9.13"
  },
  "orig_nbformat": 4,
  "vscode": {
   "interpreter": {
    "hash": "66ad2a0fc99eef4a3bf89b375e9b9756c86124817c17e26a015d4a0d647e591d"
   }
  }
 },
 "nbformat": 4,
 "nbformat_minor": 2
}
